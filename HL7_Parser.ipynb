{
 "cells": [
  {
   "cell_type": "code",
   "execution_count": null,
   "metadata": {
    "collapsed": true
   },
   "outputs": [],
   "source": [
    "## Author: Anani A. Assoutovi\n",
    "import json\n",
    "import io\n",
    "from hl7apy.parser import parse_message\n",
    "from hl7apy.exceptions import UnsupportedVersion\n",
    "\n",
    "#receives the name of the file and reads the messages in the file\n",
    "def readMessageFile(filename):\n",
    "    #read the file\n",
    "    message = open(filename, 'r').read()\n",
    "    return message\n",
    "def hl7StrToDictionary(hl7string, use_long_name=True):\n",
    "        \"\"\" Takes a string parameter and converts it to a Dictionary\n",
    "        :param hl7string: HL7 string that is passed to the method\n",
    "        :returns: A dictionary representation of the HL7 message\n",
    "        \"\"\"\n",
    "        hl7string = hl7string.replace(\"\\n\", \"\\r\")\n",
    "        try :\n",
    "            m = parse_message(hl7string)\n",
    "        except UnsupportedVersion:\n",
    "            print(\" Error! : The specified version in the file is unsurpoted.\")\n",
    "            print(\" Kindly change the version number in the text file to 2.5\")\n",
    "\n",
    "        return hl7MessageToDictionary(m, use_long_name=use_long_name)\n",
    "\n",
    "def hl7MessageToDictionary(m, use_long_name=True):\n",
    "        \"\"\"Convert an HL7 message to a dictionary\n",
    "        \"\"\"\n",
    "        if m.children:\n",
    "            d = {}\n",
    "            for c in m.children:\n",
    "                name = c.name.lower()\n",
    "                if use_long_name:\n",
    "                    name = c.long_name.lower() if c.long_name else name\n",
    "                dictified = hl7MessageToDictionary(c, use_long_name=use_long_name)\n",
    "                if name in d:\n",
    "                    if not isinstance(d[name], list):\n",
    "                        d[name] = [d[name]]\n",
    "                    d[name].append(dictified)\n",
    "                else:\n",
    "                    d[name] = dictified\n",
    "            return d\n",
    "        else:\n",
    "            return m.to_er7()\n",
    "\n",
    "def writeJsonFile(dictionary):\n",
    "        # Write JSON file\n",
    "        try:\n",
    "            to_unicode = unicode\n",
    "        except NameError:\n",
    "            to_unicode = str\n",
    "        with io.open('jsonmessage.json', 'w', encoding='utf8') as outfile:\n",
    "            str_ = json.dumps(dictionary,\n",
    "                              indent=4, sort_keys=True,\n",
    "                              separators=(',', ':'), ensure_ascii=False)\n",
    "            outfile.write(to_unicode(str_))\n",
    "\n",
    "message = readMessageFile(\"HL7_Final.txt\")\n",
    "# Convert it to a dictionary\n",
    "d = hl7StrToDictionary(message)\n",
    "#write JSON file\n",
    "writeJsonFile(d)\n",
    "# Dump it as a JSON string\n",
    "print (\"A jason file with the message has been created\")\n",
    "\n",
    "\n",
    "\n",
    "\n"
   ]
  },
  {
   "cell_type": "code",
   "execution_count": null,
   "metadata": {},
   "outputs": [],
   "source": [
    ""
   ]
  },
  {
   "cell_type": "code",
   "execution_count": null,
   "metadata": {},
   "outputs": [],
   "source": [
    ""
   ]
  },
  {
   "cell_type": "code",
   "execution_count": null,
   "metadata": {},
   "outputs": [],
   "source": [
    ""
   ]
  }
 ],
 "metadata": {
  "kernelspec": {
   "display_name": "Python 2",
   "language": "python",
   "name": "python2"
  },
  "language_info": {
   "codemirror_mode": {
    "name": "ipython",
    "version": 2.0
   },
   "file_extension": ".py",
   "mimetype": "text/x-python",
   "name": "python",
   "nbconvert_exporter": "python",
   "pygments_lexer": "ipython2",
   "version": "2.7.6"
  }
 },
 "nbformat": 4,
 "nbformat_minor": 0
}